{
 "cells": [
  {
   "cell_type": "code",
   "execution_count": 1,
   "metadata": {
    "collapsed": false
   },
   "outputs": [],
   "source": [
    "import numpy as np\n",
    "import matplotlib.pyplot as plt\n",
    "import matplotlib.colors as clrs\n",
    "import matplotlib.cm as cmx\n",
    "import matplotlib.colorbar as cb\n",
    "import emcee\n",
    "import corner\n",
    "import batman\n",
    "import copy\n",
    "import time\n",
    "from astropy import units as u\n",
    "from astropy.constants import G\n",
    "from astropy.io import ascii\n",
    "from matplotlib import gridspec\n",
    "import scipy.optimize as sciop\n",
    "\n",
    "import matplotlib.image as mpimg\n",
    "import ipywidgets as widgets\n",
    "from IPython.display import display\n",
    "\n",
    "import matplotlib.style\n",
    "import matplotlib as mpl\n",
    "mpl.style.use('classic')\n",
    "\n",
    "%matplotlib inline"
   ]
  },
  {
   "cell_type": "code",
   "execution_count": 2,
   "metadata": {
    "collapsed": false
   },
   "outputs": [
    {
     "name": "stdout",
     "output_type": "stream",
     "text": [
      "Planet ID System ID ... Radial optical depth from star to planet\n",
      "--------- --------- ... ----------------------------------------\n",
      "['Planet ID', 'System ID', 'Timestep', 'Core Mass [Mearth]', 'Envelope Mass [Mearth]', 'Total Mass [Mearth]', 'Surface Luminosity', 'Accretion rate of planetesimals', 'Accretion rate into envelope', 'Core Radius [Rjup]', 'Pressure at core-envelope interface [bar]', 'Temperature at core-envelope interface [K]', 'Gas density at core-envelope interface [g/cm^3]', 'Total Radius [Rjup]', 'Total Luminosity', 'Surface Pressure [bar]', 'Surface Temperature [K]', 'Semi Major Axis', 'Sound Speed', 'Mass of gas disc [Mearth]', 'Mass of the planetesimal disc [Mearth]', 'Hill sphere radius [RJ]', 'Bondi Radius', 'Timestep [yr]', 'Mean planetesimal surface density in Feeding zone', 'Nominal width of feeding zone [AU]', \"Planetesimals' capture radius [RJ]\", 'Disk midplane temperature in PLANETE. Equilibrium temperature in COMPLETO', 'Disk midplane pressure [bar]', 'Migration Type', 'Mass of ejected solids', 'Mass of accreted solids', 'Isolation mass in Earth masses', 'Gas surface density at planet position', 'Length of timestep of this planet / yr', 'Index of planet with the shortest timestep', 'Core density [g/cm^3]', 'Pressure on planet surface [bar]', 'Temperature on planet surface [K]', 'Specific entropy at core-envelope boundary', 'Stellar luminosity', 'Specific entropy at outer radius / top', 'Stellar radius', 'Contraction luminosity without Lradio & Ldburn', \"Planetesimals' eccentricity\", \"Planetesimals' inclination\", 'Planet eccentricity', 'Planet inclination', 'Body type', 'Mig Kai type', 'Planet status', 'Accretion rate on the star [Msol/yr]', 'Migration time scale [year]', 'Eccentricity damping time scale [year]', 'Inclination damping time scale [year]', 'Radiogenic luminosity [LJ]', 'Luminosity due to gas accretion [LJ]', \"Gas density on planet's surface [g/cm^3]\", \"Opacity on planet's surface\", 'Kelvin?Helmholtz time scale [year]', 'Phase type', 'Time step limitation criterion', 'Luminosity from deuterium burning [LJ]', 'Relative deuterium abundance', 'Average number of eddys in the planet envelope', 'Mixing timescale in the envelope [year]', 'Gas surface density around the planet [g/cm^2]', 'Gap reduction factor of the surface density for giant planets', 'Opacity at the core-envelope boundary', 'Radius in envelope where optical depth is 2/3 [RJ]', 'Temperature in envelope where optical depth is 2/3 [K]', 'Pressure where optical depth is 2/3 [bar]', 'Luminosity where optical depth is 2/3 [LJ]', 'Mass where optical depth is 2/3 [Mearth]', 'Radius where pressure is 1 bar [RJ]', 'Temperature where pressure is 1 bar [K]', 'Optical depth where pressure is 1 bar', 'Mass where pressure is 1 bar [Mearth]', 'Transit radius in jupiter radii', 'Gravitational pressure of the mass residing over tau2/3 [bar]', 'The ram pressure is due to the accretion shock [bar]', 'Lsurf-Lradio integrated over time', 'True luminosity from diff of the energy between two structures [LJ]', 'Correction factor due to the neglection of the kenergdot term', 'Radiation pressure on top of the planetary envelope [bar]', 'Max gas accretion rate supported by disk', 'Gas accretion rate given by amount of gas in planet proximity [Mearth/year]', '20% of planet mass being outside of roche lobe is removed in each timestep', 'Outer disk radius [AU]', 'Planet intrinsic temp from L23 and R23 [K]', 'Dust to gas ratio', 'Initial gas surface density at 5.2 AU [g/cm^2]', 'Initial slope gas surface density', 'Exponential decrease radius initial conditon [AU]', 'Starting position of the planet [AU]', 'External photo-evaporation rate [Msol/year]', 'Ice mass fraction in the core', 'Iron mass fraction in the core', 'Radial optical depth from star to planet']\n",
      "99\n"
     ]
    }
   ],
   "source": [
    "header = ascii.read(\"./CDJ36_5Gyr_header.txt\")\n",
    "print header\n",
    "print header.colnames\n",
    "print len(header.colnames)"
   ]
  },
  {
   "cell_type": "code",
   "execution_count": 3,
   "metadata": {
    "collapsed": false
   },
   "outputs": [
    {
     "name": "stdout",
     "output_type": "stream",
     "text": [
      "(2932749,)\n",
      "29623.7272727\n",
      "29926.0\n",
      "29926.0\n"
     ]
    }
   ],
   "source": [
    "data = np.loadtxt(\"./CDJ36_5Gyr.txt\",delimiter=\"\\t\")\n",
    "print np.shape(data)\n",
    "print len(data)/99.\n",
    "\n",
    "print (len(data) - 1)/98.\n",
    "\n",
    "data = data[1:]\n",
    "print len(data)/98."
   ]
  },
  {
   "cell_type": "code",
   "execution_count": 4,
   "metadata": {
    "collapsed": false
   },
   "outputs": [
    {
     "name": "stdout",
     "output_type": "stream",
     "text": [
      "systemID: 3\n",
      "planetID: 30000.0\n",
      "29926\n"
     ]
    }
   ],
   "source": [
    "systemCounter = 1\n",
    "planetCounter = 1\n",
    "entryCounter = 0\n",
    "loopcounter = 0\n",
    "\n",
    "newData = np.atleast_2d(np.zeros((99)))\n",
    "otherTimesteps = []\n",
    "\n",
    "#thisTimestep = 50000.\n",
    "\n",
    "while entryCounter < len(data):\n",
    "    row = np.atleast_2d(np.zeros((99)))\n",
    "    \n",
    "    #if (np.abs(data[entryCounter+1] - thisTimestep) < 10.):\n",
    "    if True:\n",
    "        newPlanetCounter = data[entryCounter]\n",
    "        if newPlanetCounter < planetCounter:\n",
    "            systemCounter += 1\n",
    "            planetCounter = newPlanetCounter\n",
    "        else:\n",
    "            planetCounter = newPlanetCounter\n",
    "        row[0,0] = systemCounter\n",
    "        row[0,1:] = data[entryCounter:entryCounter+98]\n",
    "        entryCounter = entryCounter + 98\n",
    "        newData = np.vstack((newData,row))\n",
    "    \n",
    "    else:\n",
    "        otherTimesteps.append(data[entryCounter+1])\n",
    "        #print \"wrong timestep?\"\n",
    "        #print \"systemID: {0}\".format(systemCounter)\n",
    "        #print \"planetID: {0}\".format(data[entryCounter])\n",
    "        entryCounter = entryCounter + 98\n",
    "    \n",
    "    loopcounter = loopcounter+1\n",
    "    \n",
    "print \"systemID: {0}\".format(systemCounter)\n",
    "print \"planetID: {0}\".format(planetCounter) \n",
    "print loopcounter\n",
    "\n",
    "newData = newData[1:]"
   ]
  },
  {
   "cell_type": "code",
   "execution_count": 5,
   "metadata": {
    "collapsed": false
   },
   "outputs": [
    {
     "name": "stdout",
     "output_type": "stream",
     "text": [
      "[]\n"
     ]
    },
    {
     "data": {
      "image/png": "[encoded data removed]",
      "text/plain": [
       "<matplotlib.figure.Figure at 0x104375190>"
      ]
     },
     "metadata": {},
     "output_type": "display_data"
    }
   ],
   "source": [
    "otherTimesteps = np.unique(np.array(otherTimesteps))\n",
    "print otherTimesteps\n",
    "fig = plt.figure(figsize=(8,6))\n",
    "plt.hist(otherTimesteps)\n",
    "plt.show()"
   ]
  },
  {
   "cell_type": "code",
   "execution_count": 6,
   "metadata": {
    "collapsed": false,
    "scrolled": false
   },
   "outputs": [
    {
     "name": "stdout",
     "output_type": "stream",
     "text": [
      "(29926, 99)\n",
      "[1037.177906   2246.73146367 1160.1654     ...  957.955619    620.178535\n",
      " 2689.40454647]\n"
     ]
    },
    {
     "data": {
      "image/png": "[encoded data removed]",
      "text/plain": [
       "<matplotlib.figure.Figure at 0x1344f19710>"
      ]
     },
     "metadata": {},
     "output_type": "display_data"
    }
   ],
   "source": [
    "print np.shape(newData)\n",
    "print newData[:,2]\n",
    "#print newData[1:]\n",
    "fig = plt.figure(figsize=(8,6))\n",
    "plt.hist(newData[:,2])\n",
    "plt.show()"
   ]
  },
  {
   "cell_type": "code",
   "execution_count": 7,
   "metadata": {
    "collapsed": false
   },
   "outputs": [],
   "source": [
    "np.savetxt(\"./CDJ36_5Gyr_reformatted.txt\",newData,fmt=\"%9f\",header=header)"
   ]
  },
  {
   "cell_type": "code",
   "execution_count": null,
   "metadata": {
    "collapsed": true
   },
   "outputs": [],
   "source": []
  }
 ],
 "metadata": {
  "kernelspec": {
   "display_name": "Python 2",
   "language": "python",
   "name": "python2"
  },
  "language_info": {
   "codemirror_mode": {
    "name": "ipython",
    "version": 2
   },
   "file_extension": ".py",
   "mimetype": "text/x-python",
   "name": "python",
   "nbconvert_exporter": "python",
   "pygments_lexer": "ipython2",
   "version": "2.7.6"
  }
 },
 "nbformat": 4,
 "nbformat_minor": 0
}
